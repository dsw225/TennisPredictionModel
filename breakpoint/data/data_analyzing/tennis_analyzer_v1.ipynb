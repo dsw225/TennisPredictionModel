{
 "cells": [
  {
   "cell_type": "markdown",
   "metadata": {},
   "source": [
    "<h1 style=\"text-align: center;\">Tennis Analyzer ML Model V1</h1>\n",
    "<h3 style=\"text-align: center;\">Dan Warnick</h3>"
   ]
  },
  {
   "cell_type": "markdown",
   "metadata": {},
   "source": [
    "<p>To start we will begin by selecting the data points we want to analyze with existing known results. For each data entry we will have two players each with the following data entries.</p>\n",
    "<table style=\"font-size: .8em;\">\n",
    "    <tr>\n",
    "        <th>Player Name</th>\n",
    "        <th>Player ID</th>\n",
    "        <th>Odds</th>\n",
    "        <th>Global Rank</th>\n",
    "        <th>Total ADJ Wins (Last Year + Current Year)</th>\n",
    "        <th>Total ADJ Losses (Last Year + Current Year)</th>\n",
    "        <th>Year Win Rate (Current Fiscal Year)</th>\n",
    "        <th>Serve Rating</th>\n",
    "        <th>Return Rating</th>\n",
    "        <th>Surface Bias</th>\n",
    "        <th>Indoor/Outdoor Bias</th>\n",
    "        <th>Common Opponent Win Rate</th>\n",
    "        <th>Avg Sets in Win</th>\n",
    "        <th>Avg Sets in Loss</th>\n",
    "    </tr>\n",
    "</table>\n",
    "<p>Along with match facts like Clay/Hard/Grass Court or Indoor/Outdoor. In the future may want to add weather and adjust certain parameters for more accuracy and more data points to train from, however for now this seems a good start.</p>"
   ]
  },
  {
   "cell_type": "markdown",
   "metadata": {},
   "source": [
    "<h2>1.) Collect Data Efficiently</h2>\n",
    "\n",
    "<p>To gather player name, id, odds, global rank, total win/losses, recent win rate, and average sets in wins/losses we will use sportsdata.io's api. For specific game ratings we will make our own data scraper for the players ranked on each respective genders website, and for surface bias we will use the tennis api from rapid api, and do some calculations within python</p>"
   ]
  }
 ],
 "metadata": {
  "language_info": {
   "name": "python"
  }
 },
 "nbformat": 4,
 "nbformat_minor": 2
}
